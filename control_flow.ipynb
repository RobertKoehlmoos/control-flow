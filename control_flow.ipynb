{
 "cells": [
  {
   "cell_type": "markdown",
   "metadata": {},
   "source": [
    "# Conditionals and Loops: Controlling Your Code's Flow"
   ]
  },
  {
   "cell_type": "markdown",
   "metadata": {},
   "source": [
    "## Thinking in Paradigms: Code Abstractions\n",
    "\n",
    "One of the great things about computers is their relentless reliability and ability to follow instructions; step by step, they get the job done.\n",
    "Writing each step individually, however, would be far too time-consuming. For example, take a look at this code, which computes and prints the mean of 3 numbers:\n",
    "\n",
    "```python\n",
    "data = [1, 2, 3]\n",
    "mean = 0\n",
    "current_idx = 0\n",
    "next_value = data[current_idx]\n",
    "mean += current_idx\n",
    "current_idx = current_idx + 1\n",
    "next_value = data[current_idx]\n",
    "mean += current_idx\n",
    "current_idx = current_idx + 1\n",
    "next_value = data[current_idx]\n",
    "mean += current_idx\n",
    "mean = mean / len(data)\n",
    "print(mean)\n",
    "```\n",
    "\n",
    "It's sympathetic, in a way, but a waste of time--we could do the job quicker on the back of a napkin!  Besides, it's error-prone to write.  To take advantage of computers as time-saving machines and decrease chances of errors, we must find ways to describe the pattern those steps should fall in.  In today's session, we'll describe some of the ways we can abstract away the tedieousness of the steps computers must take, learning to identify when we are\n",
    "working in each of the 4 programming paradigms, and how to shift between them:\n",
    "\n",
    "  - **\"Imperitive / Procedural\" Programming**: Describing each of the sequence of steps the computer must perform. abstracting away the computer's *state*.\n",
    "  - **\"Functional\" Programming**: Describing the results the computer must achieve, abstracting away the computer's *transformations*.\n",
    "  - **\"Object-Oriented\" Programming**: Describing the forms the computer must take, abstracting away the computer's *data*.\n",
    "  - **\"Declarative / Logical\" Programming**: Describe the problem the computer must solve, abstracting away the computer's *context*.\n",
    "\n",
    "  \n",
    "Procedural Programming is often simplest, because the steps one writes is most similar to the steps the computer actually takes.  To see how it started and get a sense of how the other paradigms evolved, take a look at this code, which computes and prints the mean of 3 numbers:\n",
    "\n",
    "### Demo: Printing the mean of a list of numbers\n",
    "  \n",
    "This can evolve from very specific instructions...\n",
    "\n",
    "```python\n",
    "data = [1, 2, 3]\n",
    "mean = 0\n",
    "idx = 0\n",
    "**LINE 5**  # The name of this line (note: not valid python code, just for demonstration\n",
    "value = data[idx]\n",
    "mean += value\n",
    "idx += 1\n",
    "if idx < len(data):  # check if the index is still able to access elements of \"data\", which mean's it still has work to do\n",
    "    **GOTO LINE 5**  # skip everything inside the \"while\" loop and continue on with the rest of the program.\n",
    "mean /= len(data)\n",
    "print(mean)\n",
    "```\n",
    "\n",
    "...to fairly specific instructions...\n",
    "\n",
    "\n",
    "```python\n",
    "data = [1, 2, 3]\n",
    "mean = 0\n",
    "idx = 0\n",
    "while True:  # Repeat the indented block of code underneath forever\n",
    "    value = data[idx]\n",
    "    mean += value\n",
    "    idx += 1\n",
    "    if idx == len(data):  # check if the index is now past the last index of \"data\", which mean's it's reached the end of the line\n",
    "        break  # skip everything inside the \"while\" loop and continue on with the rest of the program.\n",
    "mean /= len(data)\n",
    "print(mean)\n",
    "```\n",
    "        \n",
    "...to even more general instructions...\n",
    "```python\n",
    "data = [1, 2, 3]\n",
    "mean = 0\n",
    "for value in data:  # repeach the block of code underneath \"for each\" elment of data, assigning the name \"value\" to that element\n",
    "    mean += value\n",
    "mean /= len(data)\n",
    "print(mean)\n",
    "```\n",
    "\n",
    "...to even more more general instructions...\n",
    "```python\n",
    "data = [1, 2, 3]\n",
    "mean = sum(data)\n",
    "mean /= len(data)\n",
    "```\n",
    "    \n",
    "...to, basically as general as you get instructions...\n",
    "```python\n",
    "data = [1, 2, 3]\n",
    "mean = sum(data) / len(data)\n",
    "print(mean)\n",
    "```\n",
    "\n",
    "...which somehow get more specific again as we speak more abstractly...\n",
    "\n",
    "```python\n",
    "data = [1, 2, 3]\n",
    "mean = lambda x: sum(data) / len(data)  # Defining a new function\n",
    "print(mean(data))\n",
    "```\n",
    "\n",
    "...and then gets almost philosophical in its abstraction.\n",
    "```python\n",
    "my_data = Data([1, 2, 3])  # Only showing the usage here, not how it was created\n",
    "print(my_data.mean())\n",
    "```\n",
    "  \n",
    "Interesting, right?  Abstraction is quite nice, but it comes at a cost: when the computer tells you something's wrong, it's a bit harder to troubleshoot the problem's source, because there is so much code running \"under the hood\".  To make it easier to troubleshoot, then, we'll learn about Python's data model and how go up and down levels of abstraction in order to have a good mental model of how Python is doing things.\n"
   ]
  },
  {
   "cell_type": "markdown",
   "metadata": {},
   "source": [
    "## Expressions vs Blocks\n",
    "\n",
    "The second aspect of today's work will be to learn to avoid having the computer do \"half\" steps, whenever possible; in other words, to complete a task we value on every single line of code.  This ideal will drive the entire course, as we use more and more abstract tools to do more and more valuable work for us. \n",
    "\n",
    "For example, if we want to set three coordinates a value, we could do this:\n",
    "\n",
    "```python\n",
    "# set x, y, and z\n",
    "x = 1  # set the x value\n",
    "y = 2  # set the y value\n",
    "z = 3  # set the z value\n",
    "```\n",
    "\n",
    "Or this:\n",
    "\n",
    "```python\n",
    "x, y, z = 1, 2, 3  # set x, y, and z\n",
    "```\n",
    "\n",
    "When we work this way, it becomes easer to describe our code to others and reason about it when we want to change it to do other things.  To start on that journey, we'll learn how to do each of the steps below as both a single line and as a block of code."
   ]
  },
  {
   "cell_type": "markdown",
   "metadata": {},
   "source": [
    "## \"If\" statements: Conditional Assignment\n",
    "\n",
    "\"If\" statements let Python make choices: one choice if some value is **Truthy**, and another if the value is **Falsy**.  This is called **conditional** behavior.  \n",
    "For example, **Conditional Assignment** has Python assigning a name to one value if something is true, and another if it is false:\n",
    "\n",
    "```python\n",
    "x = 30 if sum([1, 2, 3]) < 5 else 90   \n",
    "print(x)  # 90\n",
    "```\n",
    "Note that Python requires that both the True and False values are specified here. \n",
    "\n",
    "Every Python data type has a **Falsy** value--the value that makes the  **bool()** function return False.  Here's the table of common ones:\n",
    "\n",
    "| bool | int  | float | str | list | tuple | dict | set | None |\n",
    "| :--: | :--: | :--: | :--: | :--: | :--: |  :--: | :--: | :--: |\n",
    "| False | 0 | 0. | \"\" | [] | () | {} | {} | None |\n",
    "\n",
    "Basically, if the value is **0**, **Empty**, **False**, or **None**, it's automatically considered Falsy. If not, it's True!  This lets us write code like this:\n",
    "\n",
    "```python\n",
    "data = [1, 2, 3]\n",
    "result = 'I have data!' if data else 'My list is empty. :-('\n",
    "```\n",
    "\n",
    "```python\n",
    "data = None\n",
    "result = 'I have data!' if data else 'No data today. :-('\n",
    "```"
   ]
  },
  {
   "cell_type": "markdown",
   "metadata": {},
   "source": [
    "**Exercises**: Write out Python's conditional assignment code that represents each sentence.  If there is a blank line, replace it with code."
   ]
  },
  {
   "cell_type": "markdown",
   "metadata": {},
   "source": [
    "1. \"old_enough_to_drink\" is True if your_age is greater than the legal drinking age, otherwise it's False."
   ]
  },
  {
   "cell_type": "code",
   "execution_count": null,
   "metadata": {},
   "outputs": [],
   "source": [
    "your_age = __\n",
    "legal_drinking_age = __\n",
    "old_enough_to_drink = __ if __ else __\n",
    "old_enough_to_drink"
   ]
  },
  {
   "cell_type": "markdown",
   "metadata": {},
   "source": [
    "2. Do you have enough data yet?  \"Yes\" if if there are more than 10 values in the collection, and \"No\" if not."
   ]
  },
  {
   "cell_type": "code",
   "execution_count": null,
   "metadata": {},
   "outputs": [],
   "source": [
    "data = [32, 6, 8, 4, 45, 6, 7, 34, 2]\n",
    "enough_data = __ if __ else __\n",
    "enough_data"
   ]
  },
  {
   "cell_type": "markdown",
   "metadata": {},
   "source": [
    "3. If the third value in the list of lottery numbers is equal to the 2nd value, you get a \"win\" result.  If not, you \"lose\"."
   ]
  },
  {
   "cell_type": "code",
   "execution_count": null,
   "metadata": {},
   "outputs": [],
   "source": [
    "lottery = [3, 5, 5, 9, 12]\n",
    "result = __\n",
    "result"
   ]
  },
  {
   "cell_type": "markdown",
   "metadata": {},
   "source": [
    "4. If the 1st value in the list is greater than the last value, then x should be set to 3.  If not, it's should be set to 2."
   ]
  },
  {
   "cell_type": "code",
   "execution_count": null,
   "metadata": {},
   "outputs": [],
   "source": [
    "values = [1, 2, 3, 4][::-1]\n"
   ]
  },
  {
   "cell_type": "markdown",
   "metadata": {},
   "source": [
    "5. If data is None, then result should be None.  If it's anything else, then it should be \"published!\""
   ]
  },
  {
   "cell_type": "code",
   "execution_count": null,
   "metadata": {},
   "outputs": [],
   "source": []
  },
  {
   "cell_type": "markdown",
   "metadata": {},
   "source": [
    "**Exercises in Truthyness, part 2**\n",
    "\n",
    "For each of these statements, predict the value Python will return"
   ]
  },
  {
   "cell_type": "markdown",
   "metadata": {},
   "source": [
    "```python\n",
    "True if [1, 2, 3] else False\n",
    "```"
   ]
  },
  {
   "cell_type": "markdown",
   "metadata": {},
   "source": [
    "```python\n",
    "False if [] else True\n",
    "```"
   ]
  },
  {
   "cell_type": "markdown",
   "metadata": {},
   "source": [
    "```python\n",
    "True if False else False\n",
    "```"
   ]
  },
  {
   "cell_type": "markdown",
   "metadata": {},
   "source": [
    "```python\n",
    "False if 3 - 3 else True\n",
    "```"
   ]
  },
  {
   "cell_type": "markdown",
   "metadata": {},
   "source": [
    "```python\n",
    "True if -1 else False\n",
    "```"
   ]
  },
  {
   "cell_type": "markdown",
   "metadata": {},
   "source": [
    "```python\n",
    "True if [False] else False\n",
    "```"
   ]
  },
  {
   "cell_type": "markdown",
   "metadata": {},
   "source": [
    "```python\n",
    "True if \"False\" else False\n",
    "```"
   ]
  },
  {
   "cell_type": "markdown",
   "metadata": {},
   "source": [
    "```python\n",
    "True if [True, False, None][0] else False\n",
    "```"
   ]
  },
  {
   "cell_type": "markdown",
   "metadata": {},
   "source": [
    "```python\n",
    "False if [True, [False, 1], None, 0][:-1][::-1][0] else True\n",
    "```"
   ]
  },
  {
   "cell_type": "markdown",
   "metadata": {},
   "source": [
    "### \"If\" Blocks"
   ]
  },
  {
   "cell_type": "markdown",
   "metadata": {},
   "source": [
    "We can also write Python in blocks of code using **if** statements, a process called **\"Flow Control\"**.  Here are some examples:\n",
    "\n",
    "```python\n",
    "if sum([1, 2, 3]) < 5:\n",
    "    x = 30\n",
    "print(x)  # NameError: 'x' is underfined!\n",
    "```\n",
    "\n",
    "Here are two other ways it could be written:\n",
    "\n",
    "```python\n",
    "if sum([1, 2, 3]) < 5:\n",
    "    x = 30\n",
    "else:\n",
    "    x = 90\n",
    "```\n",
    "    \n",
    "```python\n",
    "x = 90\n",
    "if sum([1, 2, 3]) < 5:\n",
    "    x = 30\n",
    "```\n",
    "\n",
    "Which do you prefer?\n",
    "\n",
    "The great part about blocks, though, is that they are very flexible.  They can have as many lines inside them as you want, and they allow for multiple conditions via **elif**:\n",
    "\n",
    "```python\n",
    "if sum([1, 2, 3]) < 5:\n",
    "    x = 30\n",
    "elif sum([1, 2, 3]) < 7:\n",
    "    x = 50\n",
    "else:\n",
    "    x = 90\n",
    "```\n",
    "\n",
    "You can use as many \"elif\"s as you want between the \"if\" and \"else\" sections.  If you use another if statement when you meant \"elif\", though, Python will think that you started a second \"if\" block.  For example, Python thinks that this is 2 blocks of code.:\n",
    "\n",
    "```python\n",
    "if sum([1, 2, 3]) < 5:\n",
    "    x = 30\n",
    "if sum([1, 2, 3]) < 7:\n",
    "    x = 50\n",
    "else:\n",
    "    x = 90\n",
    "```\n",
    "\n",
    "#### Aside: \"Meaningful Whitespace\"\n",
    "\n",
    "The main thing to know about code blocks in Python is that, unlike other languages, Python defines the end of a block by where it *stops indenting*.  This is called having **\"meaningful whitespace\"**.  Every line in Python should be indented the same way, with the same number of spaces in each section, so that Python knows they belong together.  If Python can't figure out where a block starts or ends, you will see an **IndentationError**."
   ]
  },
  {
   "cell_type": "markdown",
   "metadata": {},
   "source": [
    "**Exercises**: Let's do the previous exercises again, this time with blocks.  *Please don't copy-paste, though* Getting used to typing the instructions will help you get more comfortable with the language's syntax.  Before long, you'll find it quicker to type out the code!"
   ]
  },
  {
   "cell_type": "markdown",
   "metadata": {},
   "source": [
    "1. \"old_enough_to_drink\" is True if your_age is greater than the legal drinking age, otherwise it's False."
   ]
  },
  {
   "cell_type": "code",
   "execution_count": null,
   "metadata": {},
   "outputs": [],
   "source": []
  },
  {
   "cell_type": "markdown",
   "metadata": {},
   "source": [
    "2. Do you have enough data yet?  Print \"Yes\" if if there are more than 10 values in the collection, and \"No\" if not."
   ]
  },
  {
   "cell_type": "code",
   "execution_count": null,
   "metadata": {},
   "outputs": [],
   "source": []
  },
  {
   "cell_type": "markdown",
   "metadata": {},
   "source": [
    "3. If the third value in the list of lottery numbers is equal to the 2nd value, print get a \"win\" result.  If not, print \"lose\"."
   ]
  },
  {
   "cell_type": "code",
   "execution_count": null,
   "metadata": {},
   "outputs": [],
   "source": []
  },
  {
   "cell_type": "markdown",
   "metadata": {},
   "source": [
    "4. If the 1st value in the list is greater than the last value, then x should be set to 3.  If not, it's should be set to 2."
   ]
  },
  {
   "cell_type": "code",
   "execution_count": null,
   "metadata": {},
   "outputs": [],
   "source": []
  },
  {
   "cell_type": "markdown",
   "metadata": {},
   "source": [
    "5. If data is None, then print the statement \"Go collect data\".  result should be None.  If it's anything else, then calculate its mean and print the string \"published!\""
   ]
  },
  {
   "cell_type": "code",
   "execution_count": null,
   "metadata": {},
   "outputs": [],
   "source": []
  },
  {
   "cell_type": "markdown",
   "metadata": {},
   "source": [
    "## Assertions: Checking Your Logic\n",
    "\n",
    "As our code gets longer, we need to hold more of it in our head to keep track of how we expect our data to change along the way.   If we want, we can **assert** to Python that we believe something is True in order to double-check our logic.  This way, if we're mistaken, Python can raise an **AssertionError** for us so that we know earlier when soething went wrong.  If we're correct, then Python just ignores it and carries on.  \n",
    "\n",
    "Here are some examples so you can see how that works:"
   ]
  },
  {
   "cell_type": "code",
   "execution_count": null,
   "metadata": {},
   "outputs": [],
   "source": [
    "assert sum([1, 2, 3]) > 0, \"The data is supposed to have a positive sum here.\""
   ]
  },
  {
   "cell_type": "code",
   "execution_count": null,
   "metadata": {
    "scrolled": true
   },
   "outputs": [],
   "source": [
    "assert sum([-10, 2, 3]) > 0, \"The data is supposed to have a positive sum here.\""
   ]
  },
  {
   "cell_type": "code",
   "execution_count": null,
   "metadata": {
    "scrolled": true
   },
   "outputs": [],
   "source": [
    "data = None\n",
    "assert data, \"We can't work without data!\""
   ]
  },
  {
   "cell_type": "markdown",
   "metadata": {},
   "source": [
    "## Loops: \"Don't Repeat Yourself\""
   ]
  },
  {
   "cell_type": "markdown",
   "metadata": {},
   "source": [
    "### \"While\" Loops\n",
    "\n",
    "**While** loops run a block of code for as long as the header returns True.  If it's false, then it skips the block of code and continues onward.\n",
    "\n",
    "For example, this code will run forever, because \"True\" is always truthy:\n",
    "```python\n",
    "while True:\n",
    "    print(\"Hi, everybody!\")\n",
    "    print(\"I am alive!\")\n",
    "print(\"I'm done.\")  # This will never be run.\n",
    "```\n",
    "\n",
    "You can \"break out\" of any loop, even an endless one, by using the **break** statement.  If Python sees it, it immediately skips the rest of the block and continues on:\n",
    "\n",
    "```python\n",
    "while True:\n",
    "    print(\"Hi, everybody!\")  # This will run\n",
    "    break\n",
    "    print(\"I am alive!\")  # This won't.\n",
    "print(\"I'm done.\")  # this will be run.\n",
    "```\n",
    "\n",
    "\n",
    "If we want, we can use while loops to perform an operation a certain number of times, and use an \"if statement\" to make the break appear.  For example:\n",
    "\n",
    "```python\n",
    "x = 0\n",
    "while True:\n",
    "    x += 1\n",
    "    print(x)\n",
    "    if x > 5:\n",
    "        break\n",
    "print(\"I'm done.\")\n",
    "```\n",
    "\n",
    "We can see here that code blocks can be nested!  That's exciting, right?  \n",
    "\n",
    "Notice that \"x\" is set before the loop.  That's called **preallocating** the variable, and it's often needed before doing some kind of automation on it.  In a sense, this code is doing three things, each in different blocks: \n",
    "\n",
    "  1. Getting Data\n",
    "  2. Modifying Data\n",
    "  3. Making a Decision, based on Data\n",
    "  \n",
    "Well, let's try it out!"
   ]
  },
  {
   "cell_type": "markdown",
   "metadata": {},
   "source": [
    "**Exercises**: Write a while loop that does each of the following tasks:"
   ]
  },
  {
   "cell_type": "markdown",
   "metadata": {},
   "source": [
    "1. Print \"Hello, Name\" before for each name in the list of names"
   ]
  },
  {
   "cell_type": "code",
   "execution_count": null,
   "metadata": {},
   "outputs": [],
   "source": [
    "names = [\"Johnny\", \"Carol\", \"June\", \"Susanne\"]"
   ]
  },
  {
   "cell_type": "code",
   "execution_count": null,
   "metadata": {},
   "outputs": [],
   "source": []
  },
  {
   "cell_type": "markdown",
   "metadata": {},
   "source": [
    "2. Print the number of letters are in each name"
   ]
  },
  {
   "cell_type": "code",
   "execution_count": null,
   "metadata": {},
   "outputs": [],
   "source": []
  },
  {
   "cell_type": "markdown",
   "metadata": {},
   "source": [
    "3.Make a Dictionary showing how many letters are in each name  "
   ]
  },
  {
   "cell_type": "code",
   "execution_count": null,
   "metadata": {},
   "outputs": [],
   "source": [
    "names = [\"Johnny\", \"Carol\", \"June\", \"Susanne\"]\n",
    "name_lengths = {}  # to add a key to this dictionary, follow this example: name_length['Johnny'] = 3"
   ]
  },
  {
   "cell_type": "code",
   "execution_count": null,
   "metadata": {},
   "outputs": [],
   "source": []
  },
  {
   "cell_type": "markdown",
   "metadata": {},
   "source": [
    "4. print \"Hello, World!\" 5 times."
   ]
  },
  {
   "cell_type": "code",
   "execution_count": null,
   "metadata": {},
   "outputs": [],
   "source": []
  },
  {
   "cell_type": "markdown",
   "metadata": {},
   "source": [
    "5. print \"Hello World!\" for each name in the list, but only if the first letter of the name begins with a \"J\"."
   ]
  },
  {
   "cell_type": "code",
   "execution_count": null,
   "metadata": {},
   "outputs": [],
   "source": []
  },
  {
   "cell_type": "code",
   "execution_count": null,
   "metadata": {},
   "outputs": [],
   "source": []
  },
  {
   "cell_type": "markdown",
   "metadata": {},
   "source": [
    "## Iteration: \"For\" Loops\n",
    "\n",
    "Although while-loops are used a lot in \"lower-level\" programming languages, they don't show up very much in Python, R, Matlab, Javascript, Go, or, well, a lot of others.  That's because they can be difficult to reason about; the reader has to look at the whole loop and keep all the steps in their head to be sure they understand the behavior and purpose of the loop itself.\n",
    "\n",
    "That's what \"For-each\" loops (in Python, just called \"For\" loops) are meant to help with.  In a \"For-each\" loop, you specify how many times the loop will occur before starting the loop, and even set the variable names you'll be using in the header.  This makes a big difference in readability!  Let's take a look:\n",
    "\n",
    "```python\n",
    "data = [0, 1, 2]\n",
    "for value in data:\n",
    "    print(value * 2)\n",
    "```\n",
    "\n",
    "A lot of work is happening here in the for-loop.  When unpacked, this is what Python is doing;\n",
    "\n",
    "```python\n",
    "data = [0, 1, 2]\n",
    "collection = iter(data)  # Create an \"iterator\" out of data, which gives the \"next\" value each time the next() function is called on it.\n",
    "\n",
    "value = next(collection)\n",
    "print(value * 2)\n",
    "\n",
    "value = next(collection)\n",
    "print(value * 2)\n",
    "\n",
    "value = next(collection)\n",
    "print(value * 2)\n",
    "```\n",
    "\n",
    "**Iterators** and **Iterables (types that can become an Iterator)** are super useful for for-loops, and there are many Python functions that make them for you.  The most important one is the **range()** function, which produces integers between two values.  For example:\n",
    "\n",
    "```python\n",
    "numbers_0_through_5 = range(5)\n",
    "for number in numbers_0_through_5:\n",
    "    print(number)\n",
    "```\n",
    "\n",
    "No need to write the list yourself!\n",
    "    \n",
    "\n",
    "We'll do more with for-loops later.  For now, let's simplify those \"while loop\" exercises from before:\n",
    "\n",
    "**Exercises**: Write a for loop that does each of the following tasks:"
   ]
  },
  {
   "cell_type": "markdown",
   "metadata": {},
   "source": [
    "1. Print \"Hello, Name\" before for each name in the list of names"
   ]
  },
  {
   "cell_type": "code",
   "execution_count": null,
   "metadata": {},
   "outputs": [],
   "source": [
    "names = [\"Johnny\", \"Carol\", \"June\", \"Susanne\"]"
   ]
  },
  {
   "cell_type": "code",
   "execution_count": null,
   "metadata": {},
   "outputs": [],
   "source": []
  },
  {
   "cell_type": "markdown",
   "metadata": {},
   "source": [
    "2. Print the number of letters are in each name"
   ]
  },
  {
   "cell_type": "code",
   "execution_count": null,
   "metadata": {},
   "outputs": [],
   "source": []
  },
  {
   "cell_type": "markdown",
   "metadata": {},
   "source": [
    "3.Make a Dictionary showing how many letters are in each name  "
   ]
  },
  {
   "cell_type": "code",
   "execution_count": null,
   "metadata": {},
   "outputs": [],
   "source": [
    "names = [\"Johnny\", \"Carol\", \"June\", \"Susanne\"]\n",
    "name_lengths = {}  # to add a key to this dictionary, follow this example: name_length['Johnny'] = 3"
   ]
  },
  {
   "cell_type": "code",
   "execution_count": null,
   "metadata": {},
   "outputs": [],
   "source": []
  },
  {
   "cell_type": "markdown",
   "metadata": {},
   "source": [
    "4. print \"Hello, World!\" 5 times."
   ]
  },
  {
   "cell_type": "code",
   "execution_count": null,
   "metadata": {},
   "outputs": [],
   "source": []
  },
  {
   "cell_type": "markdown",
   "metadata": {},
   "source": [
    "5. print \"Hello World!\" for each name in the list, but only if the first letter of the name begins with a \"J\"."
   ]
  },
  {
   "cell_type": "code",
   "execution_count": null,
   "metadata": {},
   "outputs": [],
   "source": []
  },
  {
   "cell_type": "markdown",
   "metadata": {},
   "source": [
    "### Mapping Collections: Transforming Each Element of a Collection\n",
    "\n",
    "Often, you want to do something to the data inside your collection--double it, increase it, compute some metric, etc.  \n",
    "At the end, you still have the same *number* of elements, but the values themselves have changed.  \n",
    "We will be looking at lots of ways to accomplish this in  Python, but first we're going to use a **for-loop** in a format called a **comprehension**.\n",
    "\n",
    "Comprehensions produce a new collection containing new values *\"for each\"* value *in* the original collection.  They look like this:\n",
    "\n",
    "```python\n",
    ">>> data = [1, 2, 3]\n",
    ">>> list(x * 2 for x in data)\n",
    "[1, 4, 9]\n",
    "```\n",
    "\n",
    "The code above does the same as the following:\n",
    "```python\n",
    ">>> data = [1, 2, 3]\n",
    ">>> [data[0] * 2, data[1] * 2, data[2] * 2]\n",
    "[1, 4, 9]\n",
    "```\n",
    "\n",
    "Another example:\n",
    "\n",
    "```python\n",
    ">>> data = [1, 2, 3]\n",
    ">>> tuple(math.sqrt(value) + 2 for value in data)\n",
    "(3.0, 3.414, 3.732)\n",
    "```\n",
    "\n",
    "```python\n",
    ">>> data = [1, 2, 3]\n",
    ">>> (math.sqrt(data[0]) + 2, math.sqrt(data[1]) + 2, math.sqrt(data[2]) + 2)\n",
    "(3.0, 3.414, 3.732)\n",
    "```\n",
    "\n",
    "Notice that the variable **x** and **value** are created without using the assignment operator! You can name this anything you want, and it is created anew for each individual element of the collection.\n",
    "\n",
    "For lists, Python has a shortcut (called a **list comprehension**):\n",
    "\n",
    "```python\n",
    ">>> data = [1, 2, 3]\n",
    ">>> [x * 2 for x in data]\n",
    "[1, 4, 9]\n",
    "```\n",
    "\n",
    "There is also one for dict (**\"dict comprehensions\"**), but not for any other type.  See below:\n",
    "\n",
    "```python\n",
    ">>> data = [1, 2, 3]\n",
    ">>> {x: x * 2 for x in data}\n",
    "{1: 1, 2: 4, 3: 9}\n",
    "```"
   ]
  },
  {
   "cell_type": "markdown",
   "metadata": {},
   "source": [
    "**Exercises**: Transform each value in the given collection into the requested collection type using the requested transformation\n",
    "\n",
    "Example: A tuple of each value in \"data\", with each value increased by 3\n",
    "```python\n",
    ">>> data = [10, 20, 30]\n",
    ">>> tuple(x + 3 for x in data)\n",
    "(13, 23, 33)\n",
    "```"
   ]
  },
  {
   "cell_type": "markdown",
   "metadata": {},
   "source": [
    "1. Make a list that adds 1 to each value in \"data\":"
   ]
  },
  {
   "cell_type": "code",
   "execution_count": null,
   "metadata": {},
   "outputs": [],
   "source": [
    "data = [1, 2, 3]"
   ]
  },
  {
   "cell_type": "markdown",
   "metadata": {},
   "source": [
    "2. Make a tuple that calculates the absolute value of each element in \"data\", using the built-in abs() function:"
   ]
  },
  {
   "cell_type": "code",
   "execution_count": null,
   "metadata": {},
   "outputs": [],
   "source": [
    "data = (-2, -1, 0, 1, 2)"
   ]
  },
  {
   "cell_type": "markdown",
   "metadata": {},
   "source": [
    "2b. Make a list of the cosines of each value in \"data\":"
   ]
  },
  {
   "cell_type": "code",
   "execution_count": null,
   "metadata": {},
   "outputs": [],
   "source": [
    "data = (-2, -1, 0, 1, 2, 3)"
   ]
  },
  {
   "cell_type": "markdown",
   "metadata": {},
   "source": [
    "2c. Round all these numbers to the nearest integer (use the \"round()\" function):"
   ]
  },
  {
   "cell_type": "code",
   "execution_count": null,
   "metadata": {},
   "outputs": [],
   "source": [
    "data = [1.2, 1.5, 0.7, -2.1]"
   ]
  },
  {
   "cell_type": "markdown",
   "metadata": {},
   "source": [
    "3. Make a list of all the first letters of each name in the list:"
   ]
  },
  {
   "cell_type": "code",
   "execution_count": null,
   "metadata": {},
   "outputs": [],
   "source": [
    "data = [\"John\", \"Harry\", \"Moe\", \"Luke\"]"
   ]
  },
  {
   "cell_type": "markdown",
   "metadata": {},
   "source": [
    "4. Make a tuple of the lengths of each name:"
   ]
  },
  {
   "cell_type": "code",
   "execution_count": null,
   "metadata": {},
   "outputs": [],
   "source": [
    "data = [\"John\", \"Harry\", \"Moe\", \"Luke\"]"
   ]
  },
  {
   "cell_type": "markdown",
   "metadata": {},
   "source": [
    "5. Make a dictionary that maps all the words in the list to their length:"
   ]
  },
  {
   "cell_type": "code",
   "execution_count": null,
   "metadata": {},
   "outputs": [],
   "source": [
    "data = [\"John\", \"Harry\", \"Moe\", \"Luke\"]"
   ]
  },
  {
   "cell_type": "markdown",
   "metadata": {},
   "source": [
    "6. Make a set of all the word lengths in the tuple:"
   ]
  },
  {
   "cell_type": "code",
   "execution_count": null,
   "metadata": {},
   "outputs": [],
   "source": [
    "data = (\"John\", \"Harry\", \"Moe\", \"Luke\")"
   ]
  },
  {
   "cell_type": "markdown",
   "metadata": {},
   "source": [
    "### Filtering Collections\n",
    "\n",
    "What if you only want to include *some* values in a collection?  With the **if** statement and a **logical expression**, you can do it in a comprehension!  For example:\n",
    "\n",
    "```python\n",
    ">>> data = [1, 2, 3, 4]\n",
    ">>> [x for x in data if x > 2]\n",
    "[3, 4]\n",
    "```\n",
    "\n",
    "This can be combined with various transformations as well!\n",
    "\n",
    "```python\n",
    ">>> data = [\"John\", \"Harry\", \"Moe\", \"Luke\"]\n",
    ">>> [x[0] for x in data if len(x) < 5]\n",
    "[\"J\", \"M\", \"L\"]\n",
    "```"
   ]
  },
  {
   "cell_type": "markdown",
   "metadata": {},
   "source": [
    "**Exercises**:"
   ]
  },
  {
   "cell_type": "markdown",
   "metadata": {},
   "source": [
    "Get All positive values in the following list:"
   ]
  },
  {
   "cell_type": "code",
   "execution_count": null,
   "metadata": {},
   "outputs": [],
   "source": [
    "data = [-6, 3, -1, 10, -5, 0]"
   ]
  },
  {
   "cell_type": "markdown",
   "metadata": {},
   "source": [
    "Make a tuple of all names that start with the letter \"L\":"
   ]
  },
  {
   "cell_type": "code",
   "execution_count": null,
   "metadata": {},
   "outputs": [],
   "source": [
    "data = (\"John\", \"Harry\", \"Moe\", \"Luke\")"
   ]
  },
  {
   "cell_type": "markdown",
   "metadata": {},
   "source": [
    "Make a list of all names that have more than 3 letters in the name:"
   ]
  },
  {
   "cell_type": "code",
   "execution_count": null,
   "metadata": {},
   "outputs": [],
   "source": [
    "data = (\"John\", \"Harry\", \"Moe\", \"Luke\")"
   ]
  },
  {
   "cell_type": "markdown",
   "metadata": {},
   "source": [
    "Make a list of the last letter of all names that have more than 3 letters in the name:"
   ]
  },
  {
   "cell_type": "code",
   "execution_count": null,
   "metadata": {},
   "outputs": [],
   "source": [
    "data = (\"John\", \"Harry\", \"Moe\", \"Luke\")"
   ]
  },
  {
   "cell_type": "markdown",
   "metadata": {},
   "source": [
    "Make a list of all values who have positive cosines:"
   ]
  },
  {
   "cell_type": "code",
   "execution_count": null,
   "metadata": {},
   "outputs": [],
   "source": [
    "data = [1, 2, 3, 4, 5, 6, 7]"
   ]
  },
  {
   "cell_type": "markdown",
   "metadata": {},
   "source": [
    "Make a dictionary, mapping each name to its length, but only if the sine of its length is positive:"
   ]
  },
  {
   "cell_type": "code",
   "execution_count": null,
   "metadata": {},
   "outputs": [],
   "source": [
    "data = [\"John\", \"Harry\", \"Moe\", \"Luke\"]"
   ]
  },
  {
   "cell_type": "markdown",
   "metadata": {},
   "source": [
    "### Combining Them: Filtering, Transforming, and Aggregating\n",
    "\n",
    "Okay, let's combine everything together into a single step!  To get the minimum value of the squares of all values less than 0 in the following list:\n",
    "\n",
    "```python\n",
    ">>> data = [-5, -3, 1, 2, 3]\n",
    ">>> min(x ** 2 for x in data if x < 0)\n",
    "9\n",
    "```\n",
    "\n",
    "Let's try it out!"
   ]
  },
  {
   "cell_type": "markdown",
   "metadata": {},
   "source": [
    "**Exercises**:"
   ]
  },
  {
   "cell_type": "markdown",
   "metadata": {},
   "source": [
    "The sum of all squares for all values in the dataset [1, 7, 3, 4, 9] greater than 4."
   ]
  },
  {
   "cell_type": "code",
   "execution_count": null,
   "metadata": {},
   "outputs": [],
   "source": []
  },
  {
   "cell_type": "markdown",
   "metadata": {},
   "source": [
    "The minimum length of all names in the list who has at least 4 unique letters in their name: [\"Bobby\", \"Cindy\", \"Anna\", \"Joshua\", \"Alan\", \"Hannah\", \"Jeffrey\"]"
   ]
  },
  {
   "cell_type": "code",
   "execution_count": null,
   "metadata": {},
   "outputs": [],
   "source": []
  },
  {
   "cell_type": "markdown",
   "metadata": {},
   "source": [
    "The total length of all the names in the list that starts with an \"R\": [\"Joey\", \"Monica\", \"Chandler\", \"Rachel\", \"Ross\", \"Phoebe\"]"
   ]
  },
  {
   "cell_type": "code",
   "execution_count": null,
   "metadata": {},
   "outputs": [],
   "source": []
  },
  {
   "cell_type": "markdown",
   "metadata": {},
   "source": [
    "## Asside: Chaining Them: Repeatedly Filtering and Transforming before Aggregating\n",
    "Often, data analysis pipelines require multiple repeated transforms and filters before the analysis is complete.  This can get quite unwieldy, to say the least.  For example:"
   ]
  },
  {
   "cell_type": "code",
   "execution_count": null,
   "metadata": {},
   "outputs": [],
   "source": [
    "tuple(x for x in (x ** 2 for x in (len(x) for x in (x for x in [\"Joey\", \"Monica\", \"Chandler\", \"Rachel\", \"Ross\", \"Phoebe\"]) if x[0] == 'R') if x < 10) if x < 36)"
   ]
  },
  {
   "cell_type": "markdown",
   "metadata": {},
   "source": [
    "You could split this into multiple lines, but it doesn't always help keep it readable.  For example:"
   ]
  },
  {
   "cell_type": "code",
   "execution_count": null,
   "metadata": {},
   "outputs": [],
   "source": [
    "tuple \\\n",
    "(x for x in \n",
    "(x ** 2 for x in \n",
    "(len(x) for x in\n",
    "(x for x in \n",
    "[\"Joey\", \"Monica\", \"Chandler\", \"Rachel\", \"Ross\", \"Phoebe\"])\n",
    "if x[0] == 'R')\n",
    "if x < 10) \n",
    "if x < 36)"
   ]
  },
  {
   "cell_type": "markdown",
   "metadata": {},
   "source": [
    " Often, people will just make a loop when they are in the situation, but this, too can get out of hand:"
   ]
  },
  {
   "cell_type": "code",
   "execution_count": null,
   "metadata": {},
   "outputs": [],
   "source": [
    "friends = [\"Joey\", \"Monica\", \"Chandler\", \"Rachel\", \"Ross\", \"Phoebe\"]\n",
    "result = ()\n",
    "for friend in friends:\n",
    "    if friend[0] == 'R':\n",
    "        friend_len = len(friend)\n",
    "        if friend_len < 10:\n",
    "            friend_len_squared = friend_len ** 2\n",
    "            if friend_len_squared < 36:\n",
    "                result = result + (friend_len_squared,)\n",
    "result                "
   ]
  },
  {
   "cell_type": "markdown",
   "metadata": {},
   "source": [
    "A simpler way is to just split it into multiple steps:"
   ]
  },
  {
   "cell_type": "code",
   "execution_count": null,
   "metadata": {},
   "outputs": [],
   "source": [
    "friends = [\"Joey\", \"Monica\", \"Chandler\", \"Rachel\", \"Ross\", \"Phoebe\"]\n",
    "friends = [len(x) for x in friends if x[0] == 'R']\n",
    "friends = [x ** 2 for x in friends if x < 10]\n",
    "tuple(x for x in friends if x < 36)"
   ]
  },
  {
   "cell_type": "markdown",
   "metadata": {},
   "source": [
    "This is a little better, but it can be a lot more readable still. We will be looking at many ways to make it easier for us to transform and filter data in later units."
   ]
  },
  {
   "cell_type": "markdown",
   "metadata": {
    "slideshow": {
     "slide_type": "slide"
    }
   },
   "source": [
    "## Review: Class Discussion\n",
    "\n",
    "  1. Python has a lot of symbols in its syntax.  What are they, and what are they used for?\n",
    "  2. What are functions?  How do you use them?  Where can you get them?\n",
    "  3. What kinds of data collections are built-in to Python?  What concepts do they represent?\n",
    "  4. What is a \"logical expression\"?  What is a \"state change\"?\n",
    "  5. What is the \"for...in\" statement about?  How do you use it?\n",
    "  6. What is the \"if\" statement about?  How do you use it?\n",
    "  7. Would you like a coffee break?"
   ]
  }
 ],
 "metadata": {
  "kernelspec": {
   "display_name": "Python 3",
   "language": "python",
   "name": "python3"
  },
  "language_info": {
   "codemirror_mode": {
    "name": "ipython",
    "version": 3
   },
   "file_extension": ".py",
   "mimetype": "text/x-python",
   "name": "python",
   "nbconvert_exporter": "python",
   "pygments_lexer": "ipython3",
   "version": "3.7.9"
  }
 },
 "nbformat": 4,
 "nbformat_minor": 4
}
